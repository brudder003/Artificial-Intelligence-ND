{
 "cells": [
  {
   "cell_type": "code",
   "execution_count": 22,
   "metadata": {
    "collapsed": false
   },
   "outputs": [
    {
     "name": "stdout",
     "output_type": "stream",
     "text": [
      "Once deleted, variables cannot be recovered. Proceed (y/[n])? y\n"
     ]
    }
   ],
   "source": [
    "%reset"
   ]
  },
  {
   "cell_type": "code",
   "execution_count": 10,
   "metadata": {
    "collapsed": false
   },
   "outputs": [
    {
     "name": "stdout",
     "output_type": "stream",
     "text": [
      "Variable   Type      Data/Info\n",
      "------------------------------\n",
      "boxes      list      n=81\n",
      "ex         list      n=81\n",
      "example    str       ..3.2.6..9..3.5..1..18.64<...>26.95..8..2.3..9..5.1.3..\n",
      "utils      module    <module 'utils' from 'C:\\<...>sudoku-solver\\\\utils.py'>\n"
     ]
    }
   ],
   "source": [
    "whos"
   ]
  },
  {
   "cell_type": "code",
   "execution_count": 1,
   "metadata": {
    "collapsed": false
   },
   "outputs": [],
   "source": [
    "import utils"
   ]
  },
  {
   "cell_type": "code",
   "execution_count": 2,
   "metadata": {
    "collapsed": false
   },
   "outputs": [],
   "source": [
    "boxes = utils.boxes"
   ]
  },
  {
   "cell_type": "code",
   "execution_count": 3,
   "metadata": {
    "collapsed": true
   },
   "outputs": [],
   "source": [
    "#given as an example to work with\n",
    "grid = '..3.2.6..9..3.5..1..18.64....81.29..7.......8..67.82....26.95..8..2.3..9..5.1.3..'"
   ]
  },
  {
   "cell_type": "code",
   "execution_count": 4,
   "metadata": {
    "collapsed": false
   },
   "outputs": [],
   "source": [
    "dictionary = dict(zip(boxes, list(grid)))"
   ]
  },
  {
   "cell_type": "code",
   "execution_count": 5,
   "metadata": {
    "collapsed": true
   },
   "outputs": [
    {
     "data": {
      "text/plain": [
       "{'A1': '.',\n",
       " 'A2': '.',\n",
       " 'A3': '3',\n",
       " 'A4': '.',\n",
       " 'A5': '2',\n",
       " 'A6': '.',\n",
       " 'A7': '6',\n",
       " 'A8': '.',\n",
       " 'A9': '.',\n",
       " 'B1': '9',\n",
       " 'B2': '.',\n",
       " 'B3': '.',\n",
       " 'B4': '3',\n",
       " 'B5': '.',\n",
       " 'B6': '5',\n",
       " 'B7': '.',\n",
       " 'B8': '.',\n",
       " 'B9': '1',\n",
       " 'C1': '.',\n",
       " 'C2': '.',\n",
       " 'C3': '1',\n",
       " 'C4': '8',\n",
       " 'C5': '.',\n",
       " 'C6': '6',\n",
       " 'C7': '4',\n",
       " 'C8': '.',\n",
       " 'C9': '.',\n",
       " 'D1': '.',\n",
       " 'D2': '.',\n",
       " 'D3': '8',\n",
       " 'D4': '1',\n",
       " 'D5': '.',\n",
       " 'D6': '2',\n",
       " 'D7': '9',\n",
       " 'D8': '.',\n",
       " 'D9': '.',\n",
       " 'E1': '7',\n",
       " 'E2': '.',\n",
       " 'E3': '.',\n",
       " 'E4': '.',\n",
       " 'E5': '.',\n",
       " 'E6': '.',\n",
       " 'E7': '.',\n",
       " 'E8': '.',\n",
       " 'E9': '8',\n",
       " 'F1': '.',\n",
       " 'F2': '.',\n",
       " 'F3': '6',\n",
       " 'F4': '7',\n",
       " 'F5': '.',\n",
       " 'F6': '8',\n",
       " 'F7': '2',\n",
       " 'F8': '.',\n",
       " 'F9': '.',\n",
       " 'G1': '.',\n",
       " 'G2': '.',\n",
       " 'G3': '2',\n",
       " 'G4': '6',\n",
       " 'G5': '.',\n",
       " 'G6': '9',\n",
       " 'G7': '5',\n",
       " 'G8': '.',\n",
       " 'G9': '.',\n",
       " 'H1': '8',\n",
       " 'H2': '.',\n",
       " 'H3': '.',\n",
       " 'H4': '2',\n",
       " 'H5': '.',\n",
       " 'H6': '3',\n",
       " 'H7': '.',\n",
       " 'H8': '.',\n",
       " 'H9': '9',\n",
       " 'I1': '.',\n",
       " 'I2': '.',\n",
       " 'I3': '5',\n",
       " 'I4': '.',\n",
       " 'I5': '1',\n",
       " 'I6': '.',\n",
       " 'I7': '3',\n",
       " 'I8': '.',\n",
       " 'I9': '.'}"
      ]
     },
     "execution_count": 5,
     "metadata": {},
     "output_type": "execute_result"
    }
   ],
   "source": [
    "dictionary"
   ]
  },
  {
   "cell_type": "code",
   "execution_count": 6,
   "metadata": {
    "collapsed": false
   },
   "outputs": [
    {
     "name": "stdout",
     "output_type": "stream",
     "text": [
      ". . 3 |. 2 . |6 . . \n",
      "9 . . |3 . 5 |. . 1 \n",
      ". . 1 |8 . 6 |4 . . \n",
      "------+------+------\n",
      ". . 8 |1 . 2 |9 . . \n",
      "7 . . |. . . |. . 8 \n",
      ". . 6 |7 . 8 |2 . . \n",
      "------+------+------\n",
      ". . 2 |6 . 9 |5 . . \n",
      "8 . . |2 . 3 |. . 9 \n",
      ". . 5 |. 1 . |3 . . \n"
     ]
    }
   ],
   "source": [
    "utils.display(dictionary)"
   ]
  },
  {
   "cell_type": "code",
   "execution_count": null,
   "metadata": {
    "collapsed": true
   },
   "outputs": [],
   "source": []
  }
 ],
 "metadata": {
  "anaconda-cloud": {},
  "kernelspec": {
   "display_name": "Python [conda root]",
   "language": "python",
   "name": "conda-root-py"
  },
  "language_info": {
   "codemirror_mode": {
    "name": "ipython",
    "version": 3
   },
   "file_extension": ".py",
   "mimetype": "text/x-python",
   "name": "python",
   "nbconvert_exporter": "python",
   "pygments_lexer": "ipython3",
   "version": "3.5.2"
  }
 },
 "nbformat": 4,
 "nbformat_minor": 2
}
